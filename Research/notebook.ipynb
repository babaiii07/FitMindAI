{
 "cells": [
  {
   "cell_type": "code",
   "execution_count": 1,
   "metadata": {},
   "outputs": [
    {
     "data": {
      "text/plain": [
       "True"
      ]
     },
     "execution_count": 1,
     "metadata": {},
     "output_type": "execute_result"
    }
   ],
   "source": [
    "from langchain_groq import ChatGroq\n",
    "from dotenv import load_dotenv\n",
    "load_dotenv()"
   ]
  },
  {
   "cell_type": "code",
   "execution_count": 2,
   "metadata": {},
   "outputs": [],
   "source": [
    "model = ChatGroq(model_name=\"gemma2-9b-it\")"
   ]
  },
  {
   "cell_type": "code",
   "execution_count": 3,
   "metadata": {},
   "outputs": [
    {
     "data": {
      "text/plain": [
       "\"As an AI, I don't have feelings, but I'm here and ready to help! How can I assist you today? 😊\\n\""
      ]
     },
     "execution_count": 3,
     "metadata": {},
     "output_type": "execute_result"
    }
   ],
   "source": [
    "model.invoke(\"Hello, how are you?\").content"
   ]
  },
  {
   "cell_type": "code",
   "execution_count": 8,
   "metadata": {},
   "outputs": [],
   "source": [
    "from langchain.prompts import ChatPromptTemplate\n",
    "\n",
    "template = \"\"\"You are a professional fitness coach and nutritionist.\n",
    "\n",
    "Create a personalized gym training and nutrition plan for the following user:\n",
    "\n",
    "Name: {name}  \n",
    "Age: {age}  \n",
    "Gender: {gender}  \n",
    "Weight: {weight} kg  \n",
    "Height: {height} cm  \n",
    "Body Goal: {goal}\n",
    "Workout Experience: {experience}\n",
    "Preferred Workout Time: {workout_time} \n",
    "Diet Preference: {diet_preference} \n",
    "Allergies or Food Restrictions: {allergies}  \n",
    "Health Conditions: {health_issues} \n",
    "\n",
    "**Instructions:**\n",
    "1. Recommend a weekly gym training schedule with types of exercises, number of sets/reps, and rest days.\n",
    "2. Provide a full-day meal plan (breakfast, lunch, dinner, and snacks) that aligns with their dietary preferences and goals.\n",
    "3. Mention any lifestyle tips or general advice to support their fitness journey.\n",
    "\n",
    "Make the output simple, actionable, and beginner-friendly if needed.\"\"\"\n"
   ]
  },
  {
   "cell_type": "code",
   "execution_count": 9,
   "metadata": {},
   "outputs": [],
   "source": [
    "input = \"\"\"Name: Rahul  \n",
    "Age: 26  \n",
    "Gender: Male  \n",
    "Weight: 78 kg  \n",
    "Height: 175 cm  \n",
    "Goal: Muscle Gain  \n",
    "Experience: Beginner  \n",
    "Workout Time: Evening  \n",
    "Diet Preference: Non-vegetarian  \n",
    "Allergies: None  \n",
    "Health Issues: None\"\"\"\n"
   ]
  }
 ],
 "metadata": {
  "kernelspec": {
   "display_name": "Python 3",
   "language": "python",
   "name": "python3"
  },
  "language_info": {
   "codemirror_mode": {
    "name": "ipython",
    "version": 3
   },
   "file_extension": ".py",
   "mimetype": "text/x-python",
   "name": "python",
   "nbconvert_exporter": "python",
   "pygments_lexer": "ipython3",
   "version": "3.10.9"
  }
 },
 "nbformat": 4,
 "nbformat_minor": 2
}
